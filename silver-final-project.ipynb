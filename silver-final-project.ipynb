import pandas as pd
import numpy as np
import ssl
import geopandas
import matplotlib.pyplot as plt
from shapely import wkt

ssl._create_default_https_context = ssl._create_unverified_context

pgh_tree_data = pd.read_csv("https://data.wprdc.org/datastore/dump/1515a93c-73e3-4425-9b35-1cd11b2196da",
                           index_col = "neighborhood",
                           parse_dates = False)

indexNames = pgh_tree_data[ pgh_tree_data['overall_benefits_dollar_value'] == "NONE" ].index
pgh_tree_data.drop(indexNames , inplace=True)

groups = pgh_tree_data.groupby(['neighborhood'])

groups['overall_benefits_dollar_value'].mean()

counts = groups['overall_benefits_dollar_value'].mean()
print(counts)

world = geopandas.read_file('Neighborhood Shapefiles')
ax = world.plot(
     color='white', edgecolor='black')

gdf = geopandas.GeoDataFrame(
    pgh_tree_data, geometry=geopandas.points_from_xy(pgh_tree_data.longitude, 
                                                         pgh_tree_data.latitude))

gdf.plot(ax = ax, color = 'green')
world.plot(column = counts, 
    legend = True,
    legend_kwds = {'label': "Dollar Benefit of Trees by Neighborhood",'orientation': "horizontal"},
    cmap='Wistia')
